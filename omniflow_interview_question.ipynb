{
  "nbformat": 4,
  "nbformat_minor": 0,
  "metadata": {
    "colab": {
      "provenance": [],
      "authorship_tag": "ABX9TyNfBPP0Ph2fJeN2tOpCRVV9",
      "include_colab_link": true
    },
    "kernelspec": {
      "name": "python3",
      "display_name": "Python 3"
    },
    "language_info": {
      "name": "python"
    }
  },
  "cells": [
    {
      "cell_type": "markdown",
      "metadata": {
        "id": "view-in-github",
        "colab_type": "text"
      },
      "source": [
        "<a href=\"https://colab.research.google.com/github/Ramkirks/Interview-question/blob/main/omniflow_interview_question.ipynb\" target=\"_parent\"><img src=\"https://colab.research.google.com/assets/colab-badge.svg\" alt=\"Open In Colab\"/></a>"
      ]
    },
    {
      "cell_type": "code",
      "execution_count": 5,
      "metadata": {
        "id": "9FBf6GDP8-qT",
        "colab": {
          "base_uri": "https://localhost:8080/"
        },
        "outputId": "cf4a4fa1-ca42-4b2f-e627-5dd9b3c144d5"
      },
      "outputs": [
        {
          "output_type": "stream",
          "name": "stdout",
          "text": [
            "enter the string:malayalam\n",
            "the given string malayalam and rearrange string yalamaalm is False palindrome\n"
          ]
        }
      ],
      "source": [
        "# find whether a string is a palindrome or not if its character is rearranged in any sequence.\n",
        "\n",
        "string=input(\"enter the string:\")\n",
        "import random\n",
        "rearrange=\"\".join(random.sample(string, len(string)))\n",
        "print(f\"the given string {string} and rearrange string {rearrange} is {string==rearrange} palindrome\")"
      ]
    },
    {
      "cell_type": "code",
      "source": [
        "len('Malayalam')"
      ],
      "metadata": {
        "colab": {
          "base_uri": "https://localhost:8080/"
        },
        "id": "vsD0Vxz3IBSS",
        "outputId": "28d83e44-4f75-44b9-eeba-9d28c9a87103"
      },
      "execution_count": 7,
      "outputs": [
        {
          "output_type": "execute_result",
          "data": {
            "text/plain": [
              "9"
            ]
          },
          "metadata": {},
          "execution_count": 7
        }
      ]
    },
    {
      "cell_type": "code",
      "source": [
        "num =int(input(\"enter the number\"))\n",
        "output=[0]\n",
        "n1,n2 =  0,1\n",
        "for i in range(2, num+1):\n",
        "  n3 = n1+n2\n",
        "  n2=n1\n",
        "  n1=n3\n",
        "  output.append(n3)\n",
        "\n",
        "print(output)\n",
        "  \n"
      ],
      "metadata": {
        "colab": {
          "base_uri": "https://localhost:8080/"
        },
        "id": "y3EDWpVTLKEU",
        "outputId": "4a7ffa1d-43cf-4d7c-993e-02669a7df32d"
      },
      "execution_count": 2,
      "outputs": [
        {
          "output_type": "stream",
          "name": "stdout",
          "text": [
            "enter the number8\n",
            "[0, 1, 1, 2, 3, 5, 8, 13]\n"
          ]
        }
      ]
    },
    {
      "cell_type": "code",
      "source": [],
      "metadata": {
        "id": "shMegIooOq8K"
      },
      "execution_count": null,
      "outputs": []
    }
  ]
}